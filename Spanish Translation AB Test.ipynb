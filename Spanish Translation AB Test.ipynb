{
 "cells": [
  {
   "cell_type": "markdown",
   "metadata": {},
   "source": [
    "## Challenge Description"
   ]
  },
  {
   "cell_type": "markdown",
   "metadata": {},
   "source": [
    "Company XYZ is a worldwide e-commerce site with localized versions of the site.\n",
    "A data scientist at XYZ noticed that Spain-based users have a much higher conversion rate than\n",
    "any other Spanish-speaking country. She therefore went and talked to the international team in\n",
    "charge of Spain And LatAm to see if they had any ideas about why that was happening.\n",
    "\n",
    "Spain and LatAm country manager suggested that one reason could be translation. All Spanish-\n",
    "speaking countries had the same translation of the site which was written by a Spaniard. They agreed to try a test where each country would have its one translation written by a local. That is,\n",
    "Argentinian users would see a translation written by an Argentinian, Mexican users by a Mexican\n",
    "and so on. Obviously, nothing would change for users from Spain.\n",
    "After they run the test however, they are really surprised cause the test is negative. I.e., it\n",
    "appears that the non-localized translation was doing better!\n",
    "\n",
    "##### You are asked to:\n",
    "1. Confirm that the test is actually negative. That is, it appears that the old version of the site with just one translation across Spain and LatAm performs better\n",
    "2. Explain why that might be happening. Are the localized translations really worse?\n",
    "3. If you identified what was wrong, design an algorithm that would return FALSE if the same problem is happening in the future and TRUE if everything is good and the results can be trusted."
   ]
  },
  {
   "cell_type": "markdown",
   "metadata": {},
   "source": [
    "##### For A/B Testing, a crucial assumption is that the only difference between test and control should be the feature we are testing. \n",
    "##### Sample size should be large enough, test and control distribution should be the same"
   ]
  },
  {
   "cell_type": "code",
   "execution_count": 1,
   "metadata": {},
   "outputs": [],
   "source": [
    "# Import pandas to read the data\n",
    "import pandas as pd\n",
    "pd.set_option('display.max_column', 20)\n",
    "pd.set_option('display.width', 350)"
   ]
  },
  {
   "cell_type": "code",
   "execution_count": 2,
   "metadata": {},
   "outputs": [
    {
     "name": "stdout",
     "output_type": "stream",
     "text": [
      "User Data (452867, 4)\n",
      "Test Data (453321, 9)\n"
     ]
    }
   ],
   "source": [
    "# Read data\n",
    "user = pd.read_csv('user_table.csv')\n",
    "test = pd.read_csv('test_table.csv')\n",
    "\n",
    "print('User Data', user.shape)\n",
    "print('Test Data', test.shape)"
   ]
  },
  {
   "cell_type": "code",
   "execution_count": 3,
   "metadata": {},
   "outputs": [
    {
     "data": {
      "text/html": [
       "<div>\n",
       "<style scoped>\n",
       "    .dataframe tbody tr th:only-of-type {\n",
       "        vertical-align: middle;\n",
       "    }\n",
       "\n",
       "    .dataframe tbody tr th {\n",
       "        vertical-align: top;\n",
       "    }\n",
       "\n",
       "    .dataframe thead th {\n",
       "        text-align: right;\n",
       "    }\n",
       "</style>\n",
       "<table border=\"1\" class=\"dataframe\">\n",
       "  <thead>\n",
       "    <tr style=\"text-align: right;\">\n",
       "      <th></th>\n",
       "      <th>user_id</th>\n",
       "      <th>sex</th>\n",
       "      <th>age</th>\n",
       "      <th>country</th>\n",
       "    </tr>\n",
       "  </thead>\n",
       "  <tbody>\n",
       "    <tr>\n",
       "      <th>0</th>\n",
       "      <td>765821</td>\n",
       "      <td>M</td>\n",
       "      <td>20</td>\n",
       "      <td>Mexico</td>\n",
       "    </tr>\n",
       "    <tr>\n",
       "      <th>1</th>\n",
       "      <td>343561</td>\n",
       "      <td>F</td>\n",
       "      <td>27</td>\n",
       "      <td>Nicaragua</td>\n",
       "    </tr>\n",
       "    <tr>\n",
       "      <th>2</th>\n",
       "      <td>118744</td>\n",
       "      <td>M</td>\n",
       "      <td>23</td>\n",
       "      <td>Colombia</td>\n",
       "    </tr>\n",
       "    <tr>\n",
       "      <th>3</th>\n",
       "      <td>987753</td>\n",
       "      <td>F</td>\n",
       "      <td>27</td>\n",
       "      <td>Venezuela</td>\n",
       "    </tr>\n",
       "    <tr>\n",
       "      <th>4</th>\n",
       "      <td>554597</td>\n",
       "      <td>F</td>\n",
       "      <td>20</td>\n",
       "      <td>Spain</td>\n",
       "    </tr>\n",
       "  </tbody>\n",
       "</table>\n",
       "</div>"
      ],
      "text/plain": [
       "   user_id sex  age    country\n",
       "0   765821   M   20     Mexico\n",
       "1   343561   F   27  Nicaragua\n",
       "2   118744   M   23   Colombia\n",
       "3   987753   F   27  Venezuela\n",
       "4   554597   F   20      Spain"
      ]
     },
     "execution_count": 3,
     "metadata": {},
     "output_type": "execute_result"
    }
   ],
   "source": [
    "user.head()"
   ]
  },
  {
   "cell_type": "code",
   "execution_count": 4,
   "metadata": {},
   "outputs": [
    {
     "data": {
      "text/html": [
       "<div>\n",
       "<style scoped>\n",
       "    .dataframe tbody tr th:only-of-type {\n",
       "        vertical-align: middle;\n",
       "    }\n",
       "\n",
       "    .dataframe tbody tr th {\n",
       "        vertical-align: top;\n",
       "    }\n",
       "\n",
       "    .dataframe thead th {\n",
       "        text-align: right;\n",
       "    }\n",
       "</style>\n",
       "<table border=\"1\" class=\"dataframe\">\n",
       "  <thead>\n",
       "    <tr style=\"text-align: right;\">\n",
       "      <th></th>\n",
       "      <th>user_id</th>\n",
       "      <th>date</th>\n",
       "      <th>source</th>\n",
       "      <th>device</th>\n",
       "      <th>browser_language</th>\n",
       "      <th>ads_channel</th>\n",
       "      <th>browser</th>\n",
       "      <th>conversion</th>\n",
       "      <th>test</th>\n",
       "    </tr>\n",
       "  </thead>\n",
       "  <tbody>\n",
       "    <tr>\n",
       "      <th>0</th>\n",
       "      <td>315281</td>\n",
       "      <td>2015-12-03</td>\n",
       "      <td>Direct</td>\n",
       "      <td>Web</td>\n",
       "      <td>ES</td>\n",
       "      <td>NaN</td>\n",
       "      <td>IE</td>\n",
       "      <td>1</td>\n",
       "      <td>0</td>\n",
       "    </tr>\n",
       "    <tr>\n",
       "      <th>1</th>\n",
       "      <td>497851</td>\n",
       "      <td>2015-12-04</td>\n",
       "      <td>Ads</td>\n",
       "      <td>Web</td>\n",
       "      <td>ES</td>\n",
       "      <td>Google</td>\n",
       "      <td>IE</td>\n",
       "      <td>0</td>\n",
       "      <td>1</td>\n",
       "    </tr>\n",
       "    <tr>\n",
       "      <th>2</th>\n",
       "      <td>848402</td>\n",
       "      <td>2015-12-04</td>\n",
       "      <td>Ads</td>\n",
       "      <td>Web</td>\n",
       "      <td>ES</td>\n",
       "      <td>Facebook</td>\n",
       "      <td>Chrome</td>\n",
       "      <td>0</td>\n",
       "      <td>0</td>\n",
       "    </tr>\n",
       "    <tr>\n",
       "      <th>3</th>\n",
       "      <td>290051</td>\n",
       "      <td>2015-12-03</td>\n",
       "      <td>Ads</td>\n",
       "      <td>Mobile</td>\n",
       "      <td>Other</td>\n",
       "      <td>Facebook</td>\n",
       "      <td>Android_App</td>\n",
       "      <td>0</td>\n",
       "      <td>1</td>\n",
       "    </tr>\n",
       "    <tr>\n",
       "      <th>4</th>\n",
       "      <td>548435</td>\n",
       "      <td>2015-11-30</td>\n",
       "      <td>Ads</td>\n",
       "      <td>Web</td>\n",
       "      <td>ES</td>\n",
       "      <td>Google</td>\n",
       "      <td>FireFox</td>\n",
       "      <td>0</td>\n",
       "      <td>1</td>\n",
       "    </tr>\n",
       "  </tbody>\n",
       "</table>\n",
       "</div>"
      ],
      "text/plain": [
       "   user_id        date  source  device browser_language ads_channel      browser  conversion  test\n",
       "0   315281  2015-12-03  Direct     Web               ES         NaN           IE           1     0\n",
       "1   497851  2015-12-04     Ads     Web               ES      Google           IE           0     1\n",
       "2   848402  2015-12-04     Ads     Web               ES    Facebook       Chrome           0     0\n",
       "3   290051  2015-12-03     Ads  Mobile            Other    Facebook  Android_App           0     1\n",
       "4   548435  2015-11-30     Ads     Web               ES      Google      FireFox           0     1"
      ]
     },
     "execution_count": 4,
     "metadata": {},
     "output_type": "execute_result"
    }
   ],
   "source": [
    "test.head()"
   ]
  },
  {
   "cell_type": "code",
   "execution_count": 5,
   "metadata": {},
   "outputs": [
    {
     "name": "stdout",
     "output_type": "stream",
     "text": [
      "True\n",
      "453321\n"
     ]
    }
   ],
   "source": [
    "# Check if the user_ids are unique\n",
    "print(test['user_id'].nunique() == len(test['user_id']))\n",
    "print(len(test['user_id']))"
   ]
  },
  {
   "cell_type": "code",
   "execution_count": 6,
   "metadata": {},
   "outputs": [
    {
     "name": "stdout",
     "output_type": "stream",
     "text": [
      "True\n",
      "452867\n"
     ]
    }
   ],
   "source": [
    "print(user['user_id'].nunique() == len(user['user_id']))\n",
    "print(len(user['user_id']))"
   ]
  },
  {
   "cell_type": "markdown",
   "metadata": {},
   "source": [
    "##### From the results above we can find that the user's number is not consistant between two table. \n",
    "Just try to get the common data from both tables."
   ]
  },
  {
   "cell_type": "code",
   "execution_count": 7,
   "metadata": {},
   "outputs": [
    {
     "data": {
      "text/html": [
       "<div>\n",
       "<style scoped>\n",
       "    .dataframe tbody tr th:only-of-type {\n",
       "        vertical-align: middle;\n",
       "    }\n",
       "\n",
       "    .dataframe tbody tr th {\n",
       "        vertical-align: top;\n",
       "    }\n",
       "\n",
       "    .dataframe thead th {\n",
       "        text-align: right;\n",
       "    }\n",
       "</style>\n",
       "<table border=\"1\" class=\"dataframe\">\n",
       "  <thead>\n",
       "    <tr style=\"text-align: right;\">\n",
       "      <th></th>\n",
       "      <th>user_id</th>\n",
       "      <th>sex</th>\n",
       "      <th>age</th>\n",
       "      <th>country</th>\n",
       "      <th>date</th>\n",
       "      <th>source</th>\n",
       "      <th>device</th>\n",
       "      <th>browser_language</th>\n",
       "      <th>ads_channel</th>\n",
       "      <th>browser</th>\n",
       "      <th>conversion</th>\n",
       "      <th>test</th>\n",
       "    </tr>\n",
       "  </thead>\n",
       "  <tbody>\n",
       "    <tr>\n",
       "      <th>0</th>\n",
       "      <td>765821</td>\n",
       "      <td>M</td>\n",
       "      <td>20</td>\n",
       "      <td>Mexico</td>\n",
       "      <td>2015-12-02</td>\n",
       "      <td>Ads</td>\n",
       "      <td>Mobile</td>\n",
       "      <td>ES</td>\n",
       "      <td>Yahoo</td>\n",
       "      <td>Android_App</td>\n",
       "      <td>0</td>\n",
       "      <td>1</td>\n",
       "    </tr>\n",
       "    <tr>\n",
       "      <th>1</th>\n",
       "      <td>343561</td>\n",
       "      <td>F</td>\n",
       "      <td>27</td>\n",
       "      <td>Nicaragua</td>\n",
       "      <td>2015-12-04</td>\n",
       "      <td>Ads</td>\n",
       "      <td>Web</td>\n",
       "      <td>ES</td>\n",
       "      <td>Facebook</td>\n",
       "      <td>Safari</td>\n",
       "      <td>0</td>\n",
       "      <td>0</td>\n",
       "    </tr>\n",
       "    <tr>\n",
       "      <th>2</th>\n",
       "      <td>118744</td>\n",
       "      <td>M</td>\n",
       "      <td>23</td>\n",
       "      <td>Colombia</td>\n",
       "      <td>2015-11-30</td>\n",
       "      <td>Ads</td>\n",
       "      <td>Mobile</td>\n",
       "      <td>ES</td>\n",
       "      <td>Facebook</td>\n",
       "      <td>Android_App</td>\n",
       "      <td>0</td>\n",
       "      <td>1</td>\n",
       "    </tr>\n",
       "    <tr>\n",
       "      <th>3</th>\n",
       "      <td>987753</td>\n",
       "      <td>F</td>\n",
       "      <td>27</td>\n",
       "      <td>Venezuela</td>\n",
       "      <td>2015-12-04</td>\n",
       "      <td>SEO</td>\n",
       "      <td>Web</td>\n",
       "      <td>ES</td>\n",
       "      <td>NaN</td>\n",
       "      <td>IE</td>\n",
       "      <td>0</td>\n",
       "      <td>1</td>\n",
       "    </tr>\n",
       "    <tr>\n",
       "      <th>4</th>\n",
       "      <td>554597</td>\n",
       "      <td>F</td>\n",
       "      <td>20</td>\n",
       "      <td>Spain</td>\n",
       "      <td>2015-12-04</td>\n",
       "      <td>Direct</td>\n",
       "      <td>Web</td>\n",
       "      <td>ES</td>\n",
       "      <td>NaN</td>\n",
       "      <td>Chrome</td>\n",
       "      <td>0</td>\n",
       "      <td>0</td>\n",
       "    </tr>\n",
       "  </tbody>\n",
       "</table>\n",
       "</div>"
      ],
      "text/plain": [
       "   user_id sex  age    country        date  source  device browser_language ads_channel      browser  conversion  test\n",
       "0   765821   M   20     Mexico  2015-12-02     Ads  Mobile               ES       Yahoo  Android_App           0     1\n",
       "1   343561   F   27  Nicaragua  2015-12-04     Ads     Web               ES    Facebook       Safari           0     0\n",
       "2   118744   M   23   Colombia  2015-11-30     Ads  Mobile               ES    Facebook  Android_App           0     1\n",
       "3   987753   F   27  Venezuela  2015-12-04     SEO     Web               ES         NaN           IE           0     1\n",
       "4   554597   F   20      Spain  2015-12-04  Direct     Web               ES         NaN       Chrome           0     0"
      ]
     },
     "execution_count": 7,
     "metadata": {},
     "output_type": "execute_result"
    }
   ],
   "source": [
    "# Inner join two tables\n",
    "merge = user.merge(test, on=['user_id'])\n",
    "merge.head()"
   ]
  },
  {
   "cell_type": "code",
   "execution_count": 8,
   "metadata": {},
   "outputs": [
    {
     "name": "stdout",
     "output_type": "stream",
     "text": [
      "<class 'pandas.core.frame.DataFrame'>\n",
      "Int64Index: 452867 entries, 0 to 452866\n",
      "Data columns (total 12 columns):\n",
      "user_id             452867 non-null int64\n",
      "sex                 452867 non-null object\n",
      "age                 452867 non-null int64\n",
      "country             452867 non-null object\n",
      "date                452867 non-null object\n",
      "source              452867 non-null object\n",
      "device              452867 non-null object\n",
      "browser_language    452867 non-null object\n",
      "ads_channel         181693 non-null object\n",
      "browser             452867 non-null object\n",
      "conversion          452867 non-null int64\n",
      "test                452867 non-null int64\n",
      "dtypes: int64(4), object(8)\n",
      "memory usage: 44.9+ MB\n"
     ]
    },
    {
     "data": {
      "text/html": [
       "<div>\n",
       "<style scoped>\n",
       "    .dataframe tbody tr th:only-of-type {\n",
       "        vertical-align: middle;\n",
       "    }\n",
       "\n",
       "    .dataframe tbody tr th {\n",
       "        vertical-align: top;\n",
       "    }\n",
       "\n",
       "    .dataframe thead th {\n",
       "        text-align: right;\n",
       "    }\n",
       "</style>\n",
       "<table border=\"1\" class=\"dataframe\">\n",
       "  <thead>\n",
       "    <tr style=\"text-align: right;\">\n",
       "      <th></th>\n",
       "      <th>user_id</th>\n",
       "      <th>age</th>\n",
       "      <th>conversion</th>\n",
       "      <th>test</th>\n",
       "    </tr>\n",
       "  </thead>\n",
       "  <tbody>\n",
       "    <tr>\n",
       "      <th>count</th>\n",
       "      <td>452867.000000</td>\n",
       "      <td>452867.000000</td>\n",
       "      <td>452867.000000</td>\n",
       "      <td>452867.000000</td>\n",
       "    </tr>\n",
       "    <tr>\n",
       "      <th>mean</th>\n",
       "      <td>499944.805166</td>\n",
       "      <td>27.130740</td>\n",
       "      <td>0.049560</td>\n",
       "      <td>0.476462</td>\n",
       "    </tr>\n",
       "    <tr>\n",
       "      <th>std</th>\n",
       "      <td>288676.264784</td>\n",
       "      <td>6.776678</td>\n",
       "      <td>0.217034</td>\n",
       "      <td>0.499446</td>\n",
       "    </tr>\n",
       "    <tr>\n",
       "      <th>min</th>\n",
       "      <td>1.000000</td>\n",
       "      <td>18.000000</td>\n",
       "      <td>0.000000</td>\n",
       "      <td>0.000000</td>\n",
       "    </tr>\n",
       "    <tr>\n",
       "      <th>25%</th>\n",
       "      <td>249819.000000</td>\n",
       "      <td>22.000000</td>\n",
       "      <td>0.000000</td>\n",
       "      <td>0.000000</td>\n",
       "    </tr>\n",
       "    <tr>\n",
       "      <th>50%</th>\n",
       "      <td>500019.000000</td>\n",
       "      <td>26.000000</td>\n",
       "      <td>0.000000</td>\n",
       "      <td>0.000000</td>\n",
       "    </tr>\n",
       "    <tr>\n",
       "      <th>75%</th>\n",
       "      <td>749543.000000</td>\n",
       "      <td>31.000000</td>\n",
       "      <td>0.000000</td>\n",
       "      <td>1.000000</td>\n",
       "    </tr>\n",
       "    <tr>\n",
       "      <th>max</th>\n",
       "      <td>1000000.000000</td>\n",
       "      <td>70.000000</td>\n",
       "      <td>1.000000</td>\n",
       "      <td>1.000000</td>\n",
       "    </tr>\n",
       "  </tbody>\n",
       "</table>\n",
       "</div>"
      ],
      "text/plain": [
       "              user_id            age     conversion           test\n",
       "count   452867.000000  452867.000000  452867.000000  452867.000000\n",
       "mean    499944.805166      27.130740       0.049560       0.476462\n",
       "std     288676.264784       6.776678       0.217034       0.499446\n",
       "min          1.000000      18.000000       0.000000       0.000000\n",
       "25%     249819.000000      22.000000       0.000000       0.000000\n",
       "50%     500019.000000      26.000000       0.000000       0.000000\n",
       "75%     749543.000000      31.000000       0.000000       1.000000\n",
       "max    1000000.000000      70.000000       1.000000       1.000000"
      ]
     },
     "execution_count": 8,
     "metadata": {},
     "output_type": "execute_result"
    }
   ],
   "source": [
    "# Check the datatype for merge dataset\n",
    "merge.info()\n",
    "merge.describe()"
   ]
  },
  {
   "cell_type": "code",
   "execution_count": 9,
   "metadata": {},
   "outputs": [],
   "source": [
    "# convert the date to datetime format\n",
    "merge.date = pd.to_datetime(merge.date)"
   ]
  },
  {
   "cell_type": "code",
   "execution_count": 10,
   "metadata": {},
   "outputs": [
    {
     "name": "stdout",
     "output_type": "stream",
     "text": [
      "<class 'pandas.core.frame.DataFrame'>\n",
      "Int64Index: 452867 entries, 0 to 452866\n",
      "Data columns (total 12 columns):\n",
      "user_id             452867 non-null int64\n",
      "sex                 452867 non-null object\n",
      "age                 452867 non-null int64\n",
      "country             452867 non-null object\n",
      "date                452867 non-null datetime64[ns]\n",
      "source              452867 non-null object\n",
      "device              452867 non-null object\n",
      "browser_language    452867 non-null object\n",
      "ads_channel         181693 non-null object\n",
      "browser             452867 non-null object\n",
      "conversion          452867 non-null int64\n",
      "test                452867 non-null int64\n",
      "dtypes: datetime64[ns](1), int64(4), object(7)\n",
      "memory usage: 44.9+ MB\n"
     ]
    },
    {
     "data": {
      "text/html": [
       "<div>\n",
       "<style scoped>\n",
       "    .dataframe tbody tr th:only-of-type {\n",
       "        vertical-align: middle;\n",
       "    }\n",
       "\n",
       "    .dataframe tbody tr th {\n",
       "        vertical-align: top;\n",
       "    }\n",
       "\n",
       "    .dataframe thead th {\n",
       "        text-align: right;\n",
       "    }\n",
       "</style>\n",
       "<table border=\"1\" class=\"dataframe\">\n",
       "  <thead>\n",
       "    <tr style=\"text-align: right;\">\n",
       "      <th></th>\n",
       "      <th>user_id</th>\n",
       "      <th>age</th>\n",
       "      <th>conversion</th>\n",
       "      <th>test</th>\n",
       "    </tr>\n",
       "  </thead>\n",
       "  <tbody>\n",
       "    <tr>\n",
       "      <th>count</th>\n",
       "      <td>452867.000000</td>\n",
       "      <td>452867.000000</td>\n",
       "      <td>452867.000000</td>\n",
       "      <td>452867.000000</td>\n",
       "    </tr>\n",
       "    <tr>\n",
       "      <th>mean</th>\n",
       "      <td>499944.805166</td>\n",
       "      <td>27.130740</td>\n",
       "      <td>0.049560</td>\n",
       "      <td>0.476462</td>\n",
       "    </tr>\n",
       "    <tr>\n",
       "      <th>std</th>\n",
       "      <td>288676.264784</td>\n",
       "      <td>6.776678</td>\n",
       "      <td>0.217034</td>\n",
       "      <td>0.499446</td>\n",
       "    </tr>\n",
       "    <tr>\n",
       "      <th>min</th>\n",
       "      <td>1.000000</td>\n",
       "      <td>18.000000</td>\n",
       "      <td>0.000000</td>\n",
       "      <td>0.000000</td>\n",
       "    </tr>\n",
       "    <tr>\n",
       "      <th>25%</th>\n",
       "      <td>249819.000000</td>\n",
       "      <td>22.000000</td>\n",
       "      <td>0.000000</td>\n",
       "      <td>0.000000</td>\n",
       "    </tr>\n",
       "    <tr>\n",
       "      <th>50%</th>\n",
       "      <td>500019.000000</td>\n",
       "      <td>26.000000</td>\n",
       "      <td>0.000000</td>\n",
       "      <td>0.000000</td>\n",
       "    </tr>\n",
       "    <tr>\n",
       "      <th>75%</th>\n",
       "      <td>749543.000000</td>\n",
       "      <td>31.000000</td>\n",
       "      <td>0.000000</td>\n",
       "      <td>1.000000</td>\n",
       "    </tr>\n",
       "    <tr>\n",
       "      <th>max</th>\n",
       "      <td>1000000.000000</td>\n",
       "      <td>70.000000</td>\n",
       "      <td>1.000000</td>\n",
       "      <td>1.000000</td>\n",
       "    </tr>\n",
       "  </tbody>\n",
       "</table>\n",
       "</div>"
      ],
      "text/plain": [
       "              user_id            age     conversion           test\n",
       "count   452867.000000  452867.000000  452867.000000  452867.000000\n",
       "mean    499944.805166      27.130740       0.049560       0.476462\n",
       "std     288676.264784       6.776678       0.217034       0.499446\n",
       "min          1.000000      18.000000       0.000000       0.000000\n",
       "25%     249819.000000      22.000000       0.000000       0.000000\n",
       "50%     500019.000000      26.000000       0.000000       0.000000\n",
       "75%     749543.000000      31.000000       0.000000       1.000000\n",
       "max    1000000.000000      70.000000       1.000000       1.000000"
      ]
     },
     "execution_count": 10,
     "metadata": {},
     "output_type": "execute_result"
    }
   ],
   "source": [
    "merge.info()\n",
    "merge.describe()"
   ]
  },
  {
   "cell_type": "code",
   "execution_count": 11,
   "metadata": {},
   "outputs": [
    {
     "name": "stdout",
     "output_type": "stream",
     "text": [
      "Old Version Size: 237093\n",
      "New Version Size: 215774\n"
     ]
    }
   ],
   "source": [
    "# Check the sample size for both old and new versions\n",
    "print('Old Version Size:' ,merge.query('test == 0')['user_id'].count())\n",
    "print('New Version Size:' ,merge.query('test == 1')['user_id'].count())"
   ]
  },
  {
   "cell_type": "markdown",
   "metadata": {},
   "source": [
    "#### Q1：Confirm that the test is actually negative. That is, it appears that the old version of the site with just one translation across Spain and LatAm performs better "
   ]
  },
  {
   "cell_type": "code",
   "execution_count": 12,
   "metadata": {
    "scrolled": true
   },
   "outputs": [
    {
     "name": "stdout",
     "output_type": "stream",
     "text": [
      "country\n",
      "Spain          0.079719\n",
      "El Salvador    0.053554\n",
      "Nicaragua      0.052647\n",
      "Costa Rica     0.052256\n",
      "Colombia       0.052089\n",
      "Honduras       0.050906\n",
      "Guatemala      0.050643\n",
      "Venezuela      0.050344\n",
      "Peru           0.049914\n",
      "Mexico         0.049495\n",
      "Bolivia        0.049369\n",
      "Ecuador        0.049154\n",
      "Paraguay       0.048493\n",
      "Chile          0.048107\n",
      "Panama         0.046796\n",
      "Argentina      0.015071\n",
      "Uruguay        0.012048\n",
      "Name: conversion, dtype: float64\n"
     ]
    }
   ],
   "source": [
    "# get the average conversion rate of old version per country\n",
    "country_conversion = merge.query('test == 0').groupby('country')['conversion'].mean()\n",
    "print(country_conversion.sort_values(ascending = False))"
   ]
  },
  {
   "cell_type": "markdown",
   "metadata": {},
   "source": [
    "##### From the result we can find that Spain is the country with the highest conversion rate."
   ]
  },
  {
   "cell_type": "code",
   "execution_count": 13,
   "metadata": {},
   "outputs": [
    {
     "name": "stdout",
     "output_type": "stream",
     "text": [
      "test\n",
      "0    0.055156\n",
      "1    0.043411\n",
      "Name: conversion, dtype: float64\n"
     ]
    }
   ],
   "source": [
    "# use t-test to test if the localized translation works better or not.\n",
    "from scipy import stats\n",
    "\n",
    "# Because nothing changed in Spain, so we should exclude Spain users.\n",
    "test_data = merge.query('country != \"Spain\"')\n",
    "\n",
    "# t-test of test and control for our target metrics\n",
    "test = stats.ttest_ind(test_data[test_data['test'] == 1]['conversion'],\n",
    "                       test_data[test_data['test'] == 0]['conversion'],\n",
    "                       equal_var=False)\n",
    "\n",
    "print(merge.groupby('test')['conversion'].mean())"
   ]
  },
  {
   "cell_type": "code",
   "execution_count": 14,
   "metadata": {},
   "outputs": [
    {
     "name": "stdout",
     "output_type": "stream",
     "text": [
      "-7.353895203080277\n"
     ]
    }
   ],
   "source": [
    "print(test.statistic)"
   ]
  },
  {
   "cell_type": "code",
   "execution_count": 15,
   "metadata": {},
   "outputs": [
    {
     "name": "stdout",
     "output_type": "stream",
     "text": [
      "1.928917857779903e-13\n"
     ]
    }
   ],
   "source": [
    "print(test.pvalue)"
   ]
  },
  {
   "cell_type": "markdown",
   "metadata": {},
   "source": [
    "From the test result seems control users are converting at 5.5% while users in the test just at 4.3%. So for question 1, the test result is trully negative.\n",
    "\n",
    "The most likely reason for weird A/B test results are:\n",
    "\n",
    "- Sample size: we didn't collect enough data.\n",
    "- Some bias has been included in the experiment so that the test/control people are not really random."
   ]
  },
  {
   "cell_type": "markdown",
   "metadata": {},
   "source": [
    "To find out if the result is true or not, let's try to plot the data by day, to see if these weird results have been constantly happening or they just started happening suddenly."
   ]
  },
  {
   "cell_type": "code",
   "execution_count": 16,
   "metadata": {},
   "outputs": [
    {
     "name": "stderr",
     "output_type": "stream",
     "text": [
      "C:\\Users\\stell\\Miniconda3\\envs\\tensorflow\\lib\\site-packages\\ipykernel_launcher.py:5: FutureWarning: using a dict on a Series for aggregation\n",
      "is deprecated and will be removed in a future version. Use                 named aggregation instead.\n",
      "\n",
      "    >>> grouper.agg(name_1=func_1, name_2=func_2)\n",
      "\n",
      "  \"\"\"\n"
     ]
    }
   ],
   "source": [
    "import matplotlib.pyplot as plt\n",
    "\n",
    "# compare test and control conversion rate by day and plot it.\n",
    "merge_by_day = merge.groupby('date')['conversion'].agg({\n",
    "    'test_vs_control': lambda x: x[merge['test'] == 1].mean()/x[merge['test'] == 0].mean()}).plot()\n",
    "\n",
    "                                    "
   ]
  },
  {
   "cell_type": "markdown",
   "metadata": {},
   "source": [
    "From the plot, we can know that:\n",
    "\n",
    "1. Test has constantly been worse than control and there is relatively little variance across days. That may caused by sample size, but there was some bias in the experiment set up.\n",
    "\n",
    "2. We just ran the test for 5 days. Normally we should always run at least a full week to capture weekly pattern, 2 weeks would be much better."
   ]
  },
  {
   "cell_type": "markdown",
   "metadata": {},
   "source": [
    "##### Let's try to find the bias. There is some segment of users more likely to end up in test or in control. This segment had a significantly above/below conversion rate and this affected the overall result. "
   ]
  },
  {
   "cell_type": "markdown",
   "metadata": {},
   "source": [
    "Check the randomization  \n",
    "It means all variables have the same distribution in test and control. For example, for the first variable, source, it would mean checking the proportion of users coming from ads, SEO, and direct is the same."
   ]
  },
  {
   "cell_type": "code",
   "execution_count": 17,
   "metadata": {},
   "outputs": [
    {
     "name": "stderr",
     "output_type": "stream",
     "text": [
      "C:\\Users\\stell\\Miniconda3\\envs\\tensorflow\\lib\\site-packages\\ipykernel_launcher.py:4: FutureWarning: using a dict on a Series for aggregation\n",
      "is deprecated and will be removed in a future version. Use                 named aggregation instead.\n",
      "\n",
      "    >>> grouper.agg(name_1=func_1, name_2=func_2)\n",
      "\n",
      "  after removing the cwd from sys.path.\n"
     ]
    }
   ],
   "source": [
    "# groupby source and estimate relative frequencies\n",
    "data_grouped_source = merge.groupby('source')['test'].agg({\n",
    "    \"frequency_test_0\":lambda x: len(x[x==0]),\n",
    "    \"frequency_test_1\":lambda x: len(x[x==1])\n",
    "})\n",
    "\n",
    "# get relative frequencies"
   ]
  },
  {
   "cell_type": "code",
   "execution_count": 18,
   "metadata": {},
   "outputs": [
    {
     "name": "stdout",
     "output_type": "stream",
     "text": [
      "        frequency_test_0  frequency_test_1\n",
      "source                                    \n",
      "Ads             0.401720          0.400641\n",
      "Direct          0.201149          0.199500\n",
      "SEO             0.397131          0.399858\n"
     ]
    }
   ],
   "source": [
    "print(data_grouped_source/data_grouped_source.sum())"
   ]
  },
  {
   "cell_type": "markdown",
   "metadata": {},
   "source": [
    "As we can see, relative frequency of source for different segmaents is the same. we have basically the same proportion of users coming from three difference source in both test and control."
   ]
  },
  {
   "cell_type": "markdown",
   "metadata": {},
   "source": [
    "Use decision tree to clearly see which variable is used for the split. That's where randomization failed."
   ]
  },
  {
   "cell_type": "code",
   "execution_count": 25,
   "metadata": {},
   "outputs": [
    {
     "data": {
      "image/svg+xml": [
       "<?xml version=\"1.0\" encoding=\"UTF-8\" standalone=\"no\"?>\r\n",
       "<!DOCTYPE svg PUBLIC \"-//W3C//DTD SVG 1.1//EN\"\r\n",
       " \"http://www.w3.org/Graphics/SVG/1.1/DTD/svg11.dtd\">\r\n",
       "<!-- Generated by graphviz version 2.38.0 (20140413.2041)\r\n",
       " -->\r\n",
       "<!-- Title: Tree Pages: 1 -->\r\n",
       "<svg width=\"711pt\" height=\"215pt\"\r\n",
       " viewBox=\"0.00 0.00 711.00 215.00\" xmlns=\"http://www.w3.org/2000/svg\" xmlns:xlink=\"http://www.w3.org/1999/xlink\">\r\n",
       "<g id=\"graph0\" class=\"graph\" transform=\"scale(1 1) rotate(0) translate(4 211)\">\r\n",
       "<title>Tree</title>\r\n",
       "<polygon fill=\"white\" stroke=\"none\" points=\"-4,4 -4,-211 707,-211 707,4 -4,4\"/>\r\n",
       "<!-- 0 -->\r\n",
       "<g id=\"node1\" class=\"node\"><title>0</title>\r\n",
       "<polygon fill=\"none\" stroke=\"black\" points=\"140,-99.5 0,-99.5 0,-31.5 140,-31.5 140,-99.5\"/>\r\n",
       "<text text-anchor=\"middle\" x=\"70\" y=\"-84.3\" font-family=\"Times New Roman,serif\" font-size=\"14.00\">country_Spain &lt;= 0.5</text>\r\n",
       "<text text-anchor=\"middle\" x=\"70\" y=\"-69.3\" font-family=\"Times New Roman,serif\" font-size=\"14.00\">gini = 0.5</text>\r\n",
       "<text text-anchor=\"middle\" x=\"70\" y=\"-54.3\" font-family=\"Times New Roman,serif\" font-size=\"14.00\">samples = 100.0%</text>\r\n",
       "<text text-anchor=\"middle\" x=\"70\" y=\"-39.3\" font-family=\"Times New Roman,serif\" font-size=\"14.00\">value = [0.5, 0.5]</text>\r\n",
       "</g>\r\n",
       "<!-- 1 -->\r\n",
       "<g id=\"node2\" class=\"node\"><title>1</title>\r\n",
       "<polygon fill=\"none\" stroke=\"black\" points=\"337,-139.5 176,-139.5 176,-71.5 337,-71.5 337,-139.5\"/>\r\n",
       "<text text-anchor=\"middle\" x=\"256.5\" y=\"-124.3\" font-family=\"Times New Roman,serif\" font-size=\"14.00\">country_Argentina &lt;= 0.5</text>\r\n",
       "<text text-anchor=\"middle\" x=\"256.5\" y=\"-109.3\" font-family=\"Times New Roman,serif\" font-size=\"14.00\">gini = 0.492</text>\r\n",
       "<text text-anchor=\"middle\" x=\"256.5\" y=\"-94.3\" font-family=\"Times New Roman,serif\" font-size=\"14.00\">samples = 88.6%</text>\r\n",
       "<text text-anchor=\"middle\" x=\"256.5\" y=\"-79.3\" font-family=\"Times New Roman,serif\" font-size=\"14.00\">value = [0.439, 0.561]</text>\r\n",
       "</g>\r\n",
       "<!-- 0&#45;&gt;1 -->\r\n",
       "<g id=\"edge1\" class=\"edge\"><title>0&#45;&gt;1</title>\r\n",
       "<path fill=\"none\" stroke=\"black\" d=\"M140.226,-80.5083C148.695,-82.3445 157.441,-84.2406 166.152,-86.1292\"/>\r\n",
       "<polygon fill=\"black\" stroke=\"black\" points=\"165.442,-89.5565 175.956,-88.2548 166.925,-82.7154 165.442,-89.5565\"/>\r\n",
       "<text text-anchor=\"middle\" x=\"154.935\" y=\"-98.0856\" font-family=\"Times New Roman,serif\" font-size=\"14.00\">True</text>\r\n",
       "</g>\r\n",
       "<!-- 6 -->\r\n",
       "<g id=\"node7\" class=\"node\"><title>6</title>\r\n",
       "<polygon fill=\"none\" stroke=\"black\" points=\"313,-53 200,-53 200,-0 313,-0 313,-53\"/>\r\n",
       "<text text-anchor=\"middle\" x=\"256.5\" y=\"-37.8\" font-family=\"Times New Roman,serif\" font-size=\"14.00\">gini = &#45;0.0</text>\r\n",
       "<text text-anchor=\"middle\" x=\"256.5\" y=\"-22.8\" font-family=\"Times New Roman,serif\" font-size=\"14.00\">samples = 11.4%</text>\r\n",
       "<text text-anchor=\"middle\" x=\"256.5\" y=\"-7.8\" font-family=\"Times New Roman,serif\" font-size=\"14.00\">value = [1.0, 0.0]</text>\r\n",
       "</g>\r\n",
       "<!-- 0&#45;&gt;6 -->\r\n",
       "<g id=\"edge6\" class=\"edge\"><title>0&#45;&gt;6</title>\r\n",
       "<path fill=\"none\" stroke=\"black\" d=\"M140.226,-50.8669C156.569,-47.4123 173.941,-43.7401 190.108,-40.3227\"/>\r\n",
       "<polygon fill=\"black\" stroke=\"black\" points=\"190.938,-43.7246 199.998,-38.2321 189.491,-36.8759 190.938,-43.7246\"/>\r\n",
       "<text text-anchor=\"middle\" x=\"179.047\" y=\"-20.8925\" font-family=\"Times New Roman,serif\" font-size=\"14.00\">False</text>\r\n",
       "</g>\r\n",
       "<!-- 2 -->\r\n",
       "<g id=\"node3\" class=\"node\"><title>2</title>\r\n",
       "<polygon fill=\"none\" stroke=\"black\" points=\"528,-179.5 373,-179.5 373,-111.5 528,-111.5 528,-179.5\"/>\r\n",
       "<text text-anchor=\"middle\" x=\"450.5\" y=\"-164.3\" font-family=\"Times New Roman,serif\" font-size=\"14.00\">country_Uruguay &lt;= 0.5</text>\r\n",
       "<text text-anchor=\"middle\" x=\"450.5\" y=\"-149.3\" font-family=\"Times New Roman,serif\" font-size=\"14.00\">gini = 0.499</text>\r\n",
       "<text text-anchor=\"middle\" x=\"450.5\" y=\"-134.3\" font-family=\"Times New Roman,serif\" font-size=\"14.00\">samples = 78.2%</text>\r\n",
       "<text text-anchor=\"middle\" x=\"450.5\" y=\"-119.3\" font-family=\"Times New Roman,serif\" font-size=\"14.00\">value = [0.473, 0.527]</text>\r\n",
       "</g>\r\n",
       "<!-- 1&#45;&gt;2 -->\r\n",
       "<g id=\"edge2\" class=\"edge\"><title>1&#45;&gt;2</title>\r\n",
       "<path fill=\"none\" stroke=\"black\" d=\"M337.257,-122.116C345.699,-123.875 354.314,-125.67 362.83,-127.444\"/>\r\n",
       "<polygon fill=\"black\" stroke=\"black\" points=\"362.261,-130.9 372.765,-129.514 363.689,-124.047 362.261,-130.9\"/>\r\n",
       "</g>\r\n",
       "<!-- 5 -->\r\n",
       "<g id=\"node6\" class=\"node\"><title>5</title>\r\n",
       "<polygon fill=\"none\" stroke=\"black\" points=\"520,-93 381,-93 381,-40 520,-40 520,-93\"/>\r\n",
       "<text text-anchor=\"middle\" x=\"450.5\" y=\"-77.8\" font-family=\"Times New Roman,serif\" font-size=\"14.00\">gini = 0.302</text>\r\n",
       "<text text-anchor=\"middle\" x=\"450.5\" y=\"-62.8\" font-family=\"Times New Roman,serif\" font-size=\"14.00\">samples = 10.3%</text>\r\n",
       "<text text-anchor=\"middle\" x=\"450.5\" y=\"-47.8\" font-family=\"Times New Roman,serif\" font-size=\"14.00\">value = [0.186, 0.814]</text>\r\n",
       "</g>\r\n",
       "<!-- 1&#45;&gt;5 -->\r\n",
       "<g id=\"edge5\" class=\"edge\"><title>1&#45;&gt;5</title>\r\n",
       "<path fill=\"none\" stroke=\"black\" d=\"M337.257,-89.2993C348.38,-87.04 359.802,-84.7199 370.903,-82.4651\"/>\r\n",
       "<polygon fill=\"black\" stroke=\"black\" points=\"371.886,-85.8369 380.989,-80.4162 370.493,-78.9769 371.886,-85.8369\"/>\r\n",
       "</g>\r\n",
       "<!-- 3 -->\r\n",
       "<g id=\"node4\" class=\"node\"><title>3</title>\r\n",
       "<polygon fill=\"none\" stroke=\"black\" points=\"703,-207 564,-207 564,-154 703,-154 703,-207\"/>\r\n",
       "<text text-anchor=\"middle\" x=\"633.5\" y=\"-191.8\" font-family=\"Times New Roman,serif\" font-size=\"14.00\">gini = 0.499</text>\r\n",
       "<text text-anchor=\"middle\" x=\"633.5\" y=\"-176.8\" font-family=\"Times New Roman,serif\" font-size=\"14.00\">samples = 77.3%</text>\r\n",
       "<text text-anchor=\"middle\" x=\"633.5\" y=\"-161.8\" font-family=\"Times New Roman,serif\" font-size=\"14.00\">value = [0.478, 0.522]</text>\r\n",
       "</g>\r\n",
       "<!-- 2&#45;&gt;3 -->\r\n",
       "<g id=\"edge3\" class=\"edge\"><title>2&#45;&gt;3</title>\r\n",
       "<path fill=\"none\" stroke=\"black\" d=\"M528.26,-160.343C536.778,-161.99 545.463,-163.67 554.002,-165.321\"/>\r\n",
       "<polygon fill=\"black\" stroke=\"black\" points=\"553.458,-168.78 563.941,-167.243 554.787,-161.908 553.458,-168.78\"/>\r\n",
       "</g>\r\n",
       "<!-- 4 -->\r\n",
       "<g id=\"node5\" class=\"node\"><title>4</title>\r\n",
       "<polygon fill=\"none\" stroke=\"black\" points=\"703,-136 564,-136 564,-83 703,-83 703,-136\"/>\r\n",
       "<text text-anchor=\"middle\" x=\"633.5\" y=\"-120.8\" font-family=\"Times New Roman,serif\" font-size=\"14.00\">gini = 0.167</text>\r\n",
       "<text text-anchor=\"middle\" x=\"633.5\" y=\"-105.8\" font-family=\"Times New Roman,serif\" font-size=\"14.00\">samples = 0.9%</text>\r\n",
       "<text text-anchor=\"middle\" x=\"633.5\" y=\"-90.8\" font-family=\"Times New Roman,serif\" font-size=\"14.00\">value = [0.092, 0.908]</text>\r\n",
       "</g>\r\n",
       "<!-- 2&#45;&gt;4 -->\r\n",
       "<g id=\"edge4\" class=\"edge\"><title>2&#45;&gt;4</title>\r\n",
       "<path fill=\"none\" stroke=\"black\" d=\"M528.26,-130.233C536.778,-128.539 545.463,-126.811 554.002,-125.113\"/>\r\n",
       "<polygon fill=\"black\" stroke=\"black\" points=\"554.816,-128.52 563.941,-123.136 553.45,-121.654 554.816,-128.52\"/>\r\n",
       "</g>\r\n",
       "</g>\r\n",
       "</svg>\r\n"
      ],
      "text/plain": [
       "<graphviz.files.Source at 0x22ccbf89e80>"
      ]
     },
     "metadata": {},
     "output_type": "display_data"
    }
   ],
   "source": [
    "import graphviz\n",
    "from sklearn.tree import DecisionTreeClassifier\n",
    "from sklearn.tree import export_graphviz\n",
    "from graphviz import Source\n",
    "\n",
    "#make date as string, so few dates that makes sense to have them a few dummy values\n",
    "merge['date'] = merge['date'].apply(str)\n",
    "\n",
    "#make dummy vars.\n",
    "data_dummy = pd.get_dummies(merge)\n",
    "#model features, test is the lable and conversion is not needed\n",
    "train_cols = data_dummy.drop(['test','conversion'],axis = 1)\n",
    "\n",
    "tree = DecisionTreeClassifier(\n",
    "    #change weights. Our data set is now balanced.\n",
    "    class_weight=\"balanced\",\n",
    "    # only split if its worthwhile. default value as 0 means always split which may increase noisy and irrelecant splits\n",
    "    min_impurity_decrease= 0.001)\n",
    "\n",
    "tree.fit(train_cols, data_dummy['test'])\n",
    "\n",
    "export_graphviz(tree, out_file=\"tree_test\", feature_names=train_cols.columns, proportion=True, rotate = True)\n",
    "with open(\"tree_test\") as f:\n",
    "    dot_graph = f.read()\n",
    "    \n",
    "display(graphviz.Source(dot_graph))"
   ]
  },
  {
   "cell_type": "code",
   "execution_count": null,
   "metadata": {},
   "outputs": [],
   "source": []
  }
 ],
 "metadata": {
  "kernelspec": {
   "display_name": "Python 3",
   "language": "python",
   "name": "python3"
  },
  "language_info": {
   "codemirror_mode": {
    "name": "ipython",
    "version": 3
   },
   "file_extension": ".py",
   "mimetype": "text/x-python",
   "name": "python",
   "nbconvert_exporter": "python",
   "pygments_lexer": "ipython3",
   "version": "3.6.8"
  }
 },
 "nbformat": 4,
 "nbformat_minor": 2
}
